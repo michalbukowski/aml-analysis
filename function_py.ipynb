{
 "cells": [
  {
   "cell_type": "markdown",
   "id": "e463b137-3219-4150-b293-7093547cd0b9",
   "metadata": {
    "tags": []
   },
   "source": [
    "# Function get_gene_names()\n",
    "---\n",
    "This function takes a list of strings of Ensembl IDs of one kind (gene, transcript, protein or exon stable IDs, also ID versions), and returns a list with gene names (HGNC symbols) associated with those IDs:\n",
    "\n",
    "```Python\n",
    "get_gene_names(ids, biomart_df, strip_version=True, gene_symbols=False)\n",
    "```\n",
    "\n",
    "This function accepts 4 arguments:\n",
    "- `ids` - the input list of Ensembl IDs\n",
    "- `biomart_df` - the input Ensembl BioMart data on Ensembl IDs, must be provided as Pandas DataFrame\n",
    "- `strip_version=True` - by default IDs are stripped off versions, change to _False_ in the case ID versions are meant to be used\n",
    "- `gene_symbols=False` - by default the input list is interpreted as a list of valid Ensembl IDs, for which HGNC symbols (gene symbols) are returned, change to _True_ to use this function in an opposite way, i.e. to obtain Gene stable IDs for input gene symbols\n",
    "\n",
    "This function output ia a vector as described below:\n",
    "- The list is of the same length as the input list, and subsequent values of both lists correspond to each other.\n",
    "- If a given ID exists but is not linked to any gene symbol, empty string value is returned.\n",
    "- If a given ID does not exist in the reference data, nan value is returned.\n",
    "- For every None/nan value in the input list, nan value is returned.\n",
    "\n",
    "Data on IDs and HGNC symbols (BioMart data) must be obtained via [Ensembl BioMart](https://www.ensembl.org/biomart/martview) (see the enxt section) and provided as Pandas DataFrame with unchanged column names.\n",
    "\n",
    "Examples:\n",
    "```Python\n",
    "get_gene_names([\"ENSP00000354687\"], biomart_df)\n",
    "# Output: ['MT-ND1']\n",
    "\n",
    "getGeneNames([\"RAVER2\", \"MT-RNR1\"]), biomart_df, gene_symbols=True)\n",
    "# Output: ['ENSG00000162437', 'ENSG00000211459']\n",
    "```\n",
    "\n",
    "---\n",
    "\n",
    "The data on IDs is already saved in the input directory as _`mart_export_ids.tsv.gz`_. It can be redownloaded in the following way:\n",
    "- go to https://www.ensembl.org/biomart/martview\n",
    "- as `-CHOOSE DATABASE-` select `Ensembl Genes 109`\n",
    "- as `-CHOOSE DATASET-` select `Human Genes (GRCh38.p13)`\n",
    "- go to `Attributes` and in the section `GENES:` select:\n",
    "    - Gene stable ID\n",
    "    - Gene stable ID version\n",
    "    - Transcript stable ID\n",
    "    - Transcript stable ID version\n",
    "    - Protein stable ID\n",
    "    - Protein stable ID version\n",
    "    - Exon stable ID\n",
    "- and in the section `EXTERNALS:` (subsection _External References_) select:\n",
    "    - HGNC symbol\n",
    "- unselect other then listed above attributes in all sections if such were preselected\n",
    "- click the `Results` button\n",
    "- in `Export all results to` choose `Compressed file (.gz)`, `TSV`\n",
    "- check the option `Unique results only`\n",
    "- click the `Go` button\n",
    "- save the file in a location of your choosing\n",
    "\n",
    "---"
   ]
  },
  {
   "cell_type": "markdown",
   "id": "cfc2a169-d15c-4607-be9d-d4c625f45e4c",
   "metadata": {},
   "source": [
    "- Do the necessary imports:"
   ]
  },
  {
   "cell_type": "code",
   "execution_count": 1,
   "id": "802cae50-1fbe-4251-8f20-93e2338eee02",
   "metadata": {},
   "outputs": [],
   "source": [
    "import pandas as pd\n",
    "from collections import defaultdict"
   ]
  },
  {
   "cell_type": "markdown",
   "id": "88b04e52-f98b-45a9-9f74-bfec0ab01b09",
   "metadata": {},
   "source": [
    "- Create a default dictionary that maps Ensembl ID prefixes to BioMart column names and returns None for non-existing keys:"
   ]
  },
  {
   "cell_type": "code",
   "execution_count": 2,
   "id": "af4b70f7-8aae-4960-99fd-a300c2ac165c",
   "metadata": {},
   "outputs": [],
   "source": [
    "name_map = defaultdict(lambda: None, {\n",
    "    'ENSG' : 'Gene stable ID',\n",
    "    'ENST' : 'Transcript stable ID',\n",
    "    'ENSP' : 'Protein stable ID',\n",
    "    'ENSE' : 'Exon stable ID'\n",
    "})"
   ]
  },
  {
   "cell_type": "markdown",
   "id": "1ebdf5ed-4a72-4196-8eca-7160e6e9e9d9",
   "metadata": {},
   "source": [
    "- Define `get_gene_names()` function:"
   ]
  },
  {
   "cell_type": "code",
   "execution_count": 3,
   "id": "32282d17-3a38-41cd-b6b2-0bbd73dc1778",
   "metadata": {},
   "outputs": [],
   "source": [
    "def get_gene_names(ids, biomart_df, strip_version=True, gene_symbols=False):\n",
    "    '''Takes a character vector of Ensembl IDs of one kind\n",
    "    (gene, transcript, protein or exon stable IDs, also ID versions),\n",
    "    and returns a vector with gene names (HGNC symbols) associated with those IDs.\n",
    "    Arguments:\n",
    "    ids           -- The input list of Ensembl IDs\n",
    "    biomart_df    -- The input Ensembl BioMart data on Ensembl IDs, must be provided as Pandas DataFrame.\n",
    "    strip_version -- By default True, IDs are stripped off versions, change to False in the case\n",
    "                     ID versions are meant to be used\n",
    "    gene_symbols  -- By default False, the input list is interpreted as a list of valid Ensembl IDs,\n",
    "                     for which HGNC symbols (gene symbols) are returned, change to True to use\n",
    "                     this function in an opposite way, i.e. to obtain Gene stable IDs\n",
    "                     for input gene symbols.\n",
    "    Returns:\n",
    "    gene_names    -- the list of corresponding gene names (HGNC symbols):\n",
    "                     The list is of the same length as the input list, and subsequent values\n",
    "                     of both lists correspond to each other.\n",
    "                     If a given ID exists but is not linked to any gene symbol,\n",
    "                     empty string value is returned.\n",
    "                     If a given ID does not exist in the reference data, nan value is returned.\n",
    "                     For every None/nan value in the input list, nan value is returned.\n",
    "    Examples:\n",
    "    get_gene_names(['ENSP00000354687'], biomart_df)\n",
    "    # Output: ['MT-ND1']\n",
    "    get_gene_names(['RAVER2', 'MT-RNR1'), biomart_df, gene_symbols=True)\n",
    "    # Output: ['ENSG00000162437', 'ENSG00000211459']'''\n",
    "    \n",
    "    # If ids in not a list, throw en error.\n",
    "    if type(ids) is not list:\n",
    "        raise Exception('Input data \"ids\" is not a list!')\n",
    "\n",
    "    # Convert the ids into Pandas Series\n",
    "    ids = pd.Series(ids)\n",
    "\n",
    "    # If strip_version is set to True (default), version suffixes\n",
    "    # will be stripped, if present, from IDs (ids) values.\n",
    "    if strip_version:\n",
    "        ids = ids.str.replace(r'\\.[^\\.]+$', '', regex=True)\n",
    "\n",
    "    # The src_col is a column in biomart_df that corresponds\n",
    "    # to the type of provided ids.\n",
    "    # Set the source column for biomart_df to 'HGNC symbol'.\n",
    "    # It is preliminarily assumed that provided ids are gene symbols.\n",
    "    src_col = 'HGNC symbol'\n",
    "\n",
    "    # If gene_symbols is False, valid Ensembl IDs are expected.\n",
    "    # Check the number of unique prefixes for ids.\n",
    "    # If there is only one find out of which kind or throw an error.\n",
    "    # If there is more than one, throw an error.\n",
    "    if not gene_symbols:\n",
    "        id_types = ids[ids.notna()].str[0:4].unique()\n",
    "        if id_types.shape[0] == 1:\n",
    "            src_col = name_map[ id_types[0] ]\n",
    "            if src_col is None:\n",
    "                raise Exception(f'Unknown Ensembl ID prefix: {id_types[0]}')\n",
    "        else:\n",
    "            raise Exception(\n",
    "                'Mixed Ensembl ID types:' + ' '.join(id_types) + '. ' +\n",
    "                'Please provide IDs of the same type or set gene_symbols '  +\n",
    "                'to True in order to use gene symbols.'\n",
    "            )\n",
    "\n",
    "    # The out_col is a column in biomart_df, values of which that\n",
    "    # correspond to provided ids will be placed in the output list.\n",
    "    # By default it is 'HGNC symbol', unless gene_symbols is set to True,\n",
    "    # then it is 'Gene stable ID'.\n",
    "    out_col = 'HGNC symbol' if not gene_symbols else 'Gene stable ID'\n",
    "\n",
    "    # If versions are allowed, check whether all IDs have versions.\n",
    "    # If everything is ok, add proper suffix to src_col, unless\n",
    "    # it is 'Exon stable ID', which does not have version,\n",
    "    # then again, throw an error.\n",
    "    if not strip_version:\n",
    "        contains_dot = ids.str.contains('.')\n",
    "        if any(contains_dot):\n",
    "            if all(contains_dot):\n",
    "                if src_col != 'Exon stable ID':\n",
    "                    src_col += ' version'\n",
    "                else:\n",
    "                    raise Exception(\n",
    "                        'Exon stable IDs cannot be used with version designation.'\n",
    "                    )\n",
    "            else:\n",
    "                raise Exception(\n",
    "                    'Input data contains Ensembl IDs mixed with IDs with versions. ' +\n",
    "                    'Use only one or another, or set stripVersions to TRUE.'\n",
    "                )\n",
    "\n",
    "    # Get unique biomart_df rows for src_col and out_col\n",
    "    sub_df = biomart_df[[src_col, out_col]].drop_duplicates()\n",
    "\n",
    "    # Group the resutling DataFrame by the column src_col,\n",
    "    # take unique of the groupped values from the column out_col,\n",
    "    # and finally join them into one string.\n",
    "    # In short, when one ID is mapped to more than one gene symbol\n",
    "    # that ID will be mapped to one string of catenated symbols.\n",
    "    groupped_df = sub_df.fillna('').groupby(src_col).agg(list)\n",
    "    groupped_df[out_col] = groupped_df[out_col].str.join(', ')\n",
    "\n",
    "    # Wrap up ids into one-column Pandas DataFrame ids_df.\n",
    "    # Merge ids_df with groupped_df on src_col.\n",
    "    # That preserves the order of IDs as\n",
    "    # it is provided in ids_dt.\n",
    "    ids_df = ids.to_frame(name=src_col)\n",
    "    selected_df = ids_df.merge(groupped_df, how='left', on=src_col)\n",
    "\n",
    "    # Pick up and return the vector of gene names.\n",
    "    gene_names = list(selected_df[out_col])\n",
    "    return gene_names"
   ]
  },
  {
   "cell_type": "markdown",
   "id": "f59c32c5-0664-41ea-bff7-b5bbdcfe8dc8",
   "metadata": {},
   "source": [
    "---\n",
    "# Test getGeneNames() function\n",
    "___\n",
    "- Load the BioMart data to a data frame, look up the dimensions and the first 5 rows."
   ]
  },
  {
   "cell_type": "code",
   "execution_count": 4,
   "id": "e52d8c81-cc52-4528-bb2f-4a0425aa65f5",
   "metadata": {},
   "outputs": [
    {
     "data": {
      "text/html": [
       "<div>\n",
       "<style scoped>\n",
       "    .dataframe tbody tr th:only-of-type {\n",
       "        vertical-align: middle;\n",
       "    }\n",
       "\n",
       "    .dataframe tbody tr th {\n",
       "        vertical-align: top;\n",
       "    }\n",
       "\n",
       "    .dataframe thead th {\n",
       "        text-align: right;\n",
       "    }\n",
       "</style>\n",
       "<table border=\"1\" class=\"dataframe\">\n",
       "  <thead>\n",
       "    <tr style=\"text-align: right;\">\n",
       "      <th></th>\n",
       "      <th>Gene stable ID</th>\n",
       "      <th>Gene stable ID version</th>\n",
       "      <th>Transcript stable ID</th>\n",
       "      <th>Transcript stable ID version</th>\n",
       "      <th>Protein stable ID</th>\n",
       "      <th>Protein stable ID version</th>\n",
       "      <th>Exon stable ID</th>\n",
       "      <th>HGNC symbol</th>\n",
       "    </tr>\n",
       "  </thead>\n",
       "  <tbody>\n",
       "    <tr>\n",
       "      <th>0</th>\n",
       "      <td>ENSG00000210049</td>\n",
       "      <td>ENSG00000210049.1</td>\n",
       "      <td>ENST00000387314</td>\n",
       "      <td>ENST00000387314.1</td>\n",
       "      <td>NaN</td>\n",
       "      <td>NaN</td>\n",
       "      <td>ENSE00001544501</td>\n",
       "      <td>MT-TF</td>\n",
       "    </tr>\n",
       "    <tr>\n",
       "      <th>1</th>\n",
       "      <td>ENSG00000211459</td>\n",
       "      <td>ENSG00000211459.2</td>\n",
       "      <td>ENST00000389680</td>\n",
       "      <td>ENST00000389680.2</td>\n",
       "      <td>NaN</td>\n",
       "      <td>NaN</td>\n",
       "      <td>ENSE00001544499</td>\n",
       "      <td>MT-RNR1</td>\n",
       "    </tr>\n",
       "    <tr>\n",
       "      <th>2</th>\n",
       "      <td>ENSG00000210077</td>\n",
       "      <td>ENSG00000210077.1</td>\n",
       "      <td>ENST00000387342</td>\n",
       "      <td>ENST00000387342.1</td>\n",
       "      <td>NaN</td>\n",
       "      <td>NaN</td>\n",
       "      <td>ENSE00001544498</td>\n",
       "      <td>MT-TV</td>\n",
       "    </tr>\n",
       "    <tr>\n",
       "      <th>3</th>\n",
       "      <td>ENSG00000210082</td>\n",
       "      <td>ENSG00000210082.2</td>\n",
       "      <td>ENST00000387347</td>\n",
       "      <td>ENST00000387347.2</td>\n",
       "      <td>NaN</td>\n",
       "      <td>NaN</td>\n",
       "      <td>ENSE00001544497</td>\n",
       "      <td>MT-RNR2</td>\n",
       "    </tr>\n",
       "    <tr>\n",
       "      <th>4</th>\n",
       "      <td>ENSG00000209082</td>\n",
       "      <td>ENSG00000209082.1</td>\n",
       "      <td>ENST00000386347</td>\n",
       "      <td>ENST00000386347.1</td>\n",
       "      <td>NaN</td>\n",
       "      <td>NaN</td>\n",
       "      <td>ENSE00002006242</td>\n",
       "      <td>MT-TL1</td>\n",
       "    </tr>\n",
       "  </tbody>\n",
       "</table>\n",
       "</div>"
      ],
      "text/plain": [
       "    Gene stable ID Gene stable ID version Transcript stable ID  \\\n",
       "0  ENSG00000210049      ENSG00000210049.1      ENST00000387314   \n",
       "1  ENSG00000211459      ENSG00000211459.2      ENST00000389680   \n",
       "2  ENSG00000210077      ENSG00000210077.1      ENST00000387342   \n",
       "3  ENSG00000210082      ENSG00000210082.2      ENST00000387347   \n",
       "4  ENSG00000209082      ENSG00000209082.1      ENST00000386347   \n",
       "\n",
       "  Transcript stable ID version Protein stable ID Protein stable ID version  \\\n",
       "0            ENST00000387314.1               NaN                       NaN   \n",
       "1            ENST00000389680.2               NaN                       NaN   \n",
       "2            ENST00000387342.1               NaN                       NaN   \n",
       "3            ENST00000387347.2               NaN                       NaN   \n",
       "4            ENST00000386347.1               NaN                       NaN   \n",
       "\n",
       "    Exon stable ID HGNC symbol  \n",
       "0  ENSE00001544501       MT-TF  \n",
       "1  ENSE00001544499     MT-RNR1  \n",
       "2  ENSE00001544498       MT-TV  \n",
       "3  ENSE00001544497     MT-RNR2  \n",
       "4  ENSE00002006242      MT-TL1  "
      ]
     },
     "execution_count": 4,
     "metadata": {},
     "output_type": "execute_result"
    }
   ],
   "source": [
    "biomart_df = pd.read_csv('input/mart_export_ids.tsv.gz', sep='\\t')\n",
    "biomart_df.head()"
   ]
  },
  {
   "cell_type": "markdown",
   "id": "087befb5-ef5a-4ecb-9246-6cf2f8a772bf",
   "metadata": {},
   "source": [
    "---\n",
    "### Use getGeneNames() function using an exemplary vector of several values\n",
    "\n",
    "---\n",
    "- A vector of exemplary Ensembl IDs (gene stable IDs). It contains also one NA value."
   ]
  },
  {
   "cell_type": "code",
   "execution_count": 5,
   "id": "5d4cc1cb-f6d5-448f-8a47-b5b165a49dfd",
   "metadata": {},
   "outputs": [],
   "source": [
    "exmpl_ids = ['ENSG00000211459', None, 'ENSG00000179546', 'ENSG00000210049',\n",
    "             'ENSG00000289881', 'ENSG00000276085', 'ENSG00000277336']"
   ]
  },
  {
   "cell_type": "markdown",
   "id": "c338bca7-4b32-4276-b290-a1a875a305ce",
   "metadata": {},
   "source": [
    "- Pass a single value only:"
   ]
  },
  {
   "cell_type": "code",
   "execution_count": 6,
   "id": "14c1e484-2d03-42f6-97bb-6bfc10bd3646",
   "metadata": {},
   "outputs": [
    {
     "data": {
      "text/plain": [
       "['MT-RNR1']"
      ]
     },
     "execution_count": 6,
     "metadata": {},
     "output_type": "execute_result"
    }
   ],
   "source": [
    "get_gene_names([exmpl_ids[0]], biomart_df)"
   ]
  },
  {
   "cell_type": "markdown",
   "id": "95080b42-05cf-4eea-9da1-af9e2891b146",
   "metadata": {},
   "source": [
    "- Pass the whole vector:"
   ]
  },
  {
   "cell_type": "code",
   "execution_count": 7,
   "id": "5a4cab42-b90b-4850-a8bf-4e30be5856c5",
   "metadata": {},
   "outputs": [
    {
     "data": {
      "text/plain": [
       "['MT-RNR1', nan, 'HTR1D', 'MT-TF', '', 'CCL3L1, CCL3L3', 'CCL3L1, CCL3L3']"
      ]
     },
     "execution_count": 7,
     "metadata": {},
     "output_type": "execute_result"
    }
   ],
   "source": [
    "get_gene_names(exmpl_ids, biomart_df)"
   ]
  },
  {
   "cell_type": "markdown",
   "id": "dcb84d1d-cc3f-4485-ab1f-5154bd107e4e",
   "metadata": {},
   "source": [
    "- A test for a vector of exemplary HGNC symols. It contains also one NA value, and one incorrect value _HEYHEY_. If Gene symbols are used, it must be indicated explicite (by `gene_symbols=True`). It turns off automatic Ensembl ID type detection."
   ]
  },
  {
   "cell_type": "code",
   "execution_count": 8,
   "id": "597e16cb-7766-4aa2-a6a4-7772c52f2076",
   "metadata": {},
   "outputs": [],
   "source": [
    "gene_symbols = ['MT-RNR1', None, 'HEYHEY', 'CCL3L1', 'CCL3L3']"
   ]
  },
  {
   "cell_type": "code",
   "execution_count": 9,
   "id": "d569e550-4635-4ea0-b67f-4b758c9b27dc",
   "metadata": {},
   "outputs": [
    {
     "data": {
      "text/plain": [
       "['ENSG00000211459',\n",
       " nan,\n",
       " nan,\n",
       " 'ENSG00000277796, ENSG00000277768, ENSG00000277336, ENSG00000276085',\n",
       " 'ENSG00000277796, ENSG00000277768, ENSG00000277336, ENSG00000276085']"
      ]
     },
     "execution_count": 9,
     "metadata": {},
     "output_type": "execute_result"
    }
   ],
   "source": [
    "get_gene_names(gene_symbols, biomart_df, gene_symbols=True)"
   ]
  },
  {
   "cell_type": "markdown",
   "id": "ef519b2e-6ac6-45ed-a6ef-e9a7a82f7c11",
   "metadata": {},
   "source": [
    "---\n",
    "### Use getGeneNames() function using a larger dataset\n",
    "\n",
    "---\n",
    "- Load the dataset to a data frame, look up the dimensions and the first two rows"
   ]
  },
  {
   "cell_type": "code",
   "execution_count": 10,
   "id": "22543064-dc99-4036-84b4-87d8d60a6e0e",
   "metadata": {},
   "outputs": [
    {
     "data": {
      "text/plain": [
       "(196520, 2)"
      ]
     },
     "metadata": {},
     "output_type": "display_data"
    },
    {
     "data": {
      "text/html": [
       "<div>\n",
       "<style scoped>\n",
       "    .dataframe tbody tr th:only-of-type {\n",
       "        vertical-align: middle;\n",
       "    }\n",
       "\n",
       "    .dataframe tbody tr th {\n",
       "        vertical-align: top;\n",
       "    }\n",
       "\n",
       "    .dataframe thead th {\n",
       "        text-align: right;\n",
       "    }\n",
       "</style>\n",
       "<table border=\"1\" class=\"dataframe\">\n",
       "  <thead>\n",
       "    <tr style=\"text-align: right;\">\n",
       "      <th></th>\n",
       "      <th>gene_id</th>\n",
       "      <th>transcript_id</th>\n",
       "    </tr>\n",
       "  </thead>\n",
       "  <tbody>\n",
       "    <tr>\n",
       "      <th>0</th>\n",
       "      <td>ENSG00000000003.10</td>\n",
       "      <td>ENST00000373020.4</td>\n",
       "    </tr>\n",
       "    <tr>\n",
       "      <th>1</th>\n",
       "      <td>ENSG00000000003.10</td>\n",
       "      <td>ENST00000494424.1</td>\n",
       "    </tr>\n",
       "  </tbody>\n",
       "</table>\n",
       "</div>"
      ],
      "text/plain": [
       "              gene_id      transcript_id\n",
       "0  ENSG00000000003.10  ENST00000373020.4\n",
       "1  ENSG00000000003.10  ENST00000494424.1"
      ]
     },
     "execution_count": 10,
     "metadata": {},
     "output_type": "execute_result"
    }
   ],
   "source": [
    "ids_df = pd.read_csv('input/test_ids.tsv.gz', sep='\\t')\n",
    "\n",
    "display(ids_df.shape)\n",
    "ids_df.head(2)"
   ]
  },
  {
   "cell_type": "markdown",
   "id": "60d87332-17ce-42fe-bf39-d32eb2088268",
   "metadata": {},
   "source": [
    "---\n",
    "- Test the function for **10** random `gene_ids` and corresponding `transcript_ids` as well as different values of `strip_version` argument:"
   ]
  },
  {
   "cell_type": "code",
   "execution_count": 11,
   "id": "e109ae76-50b7-49b6-804e-3b51f660e827",
   "metadata": {},
   "outputs": [
    {
     "data": {
      "text/plain": [
       "[nan,\n",
       " 'AFG3L1P',\n",
       " 'NELFA',\n",
       " 'APOL1',\n",
       " 'IKBKB-DT',\n",
       " 'PLCB1-IT1',\n",
       " 'AREG',\n",
       " nan,\n",
       " '',\n",
       " 'MGST1']"
      ]
     },
     "execution_count": 11,
     "metadata": {},
     "output_type": "execute_result"
    }
   ],
   "source": [
    "ids = list( ids_df['gene_id'].sample(10, random_state=1) )\n",
    "names = get_gene_names(ids, biomart_df)\n",
    "names"
   ]
  },
  {
   "cell_type": "code",
   "execution_count": 12,
   "id": "367fc22f-d7a9-4e99-829c-6f4e33f6fc7c",
   "metadata": {},
   "outputs": [
    {
     "data": {
      "text/plain": [
       "[nan,\n",
       " 'AFG3L1P',\n",
       " 'NELFA',\n",
       " 'APOL1',\n",
       " 'IKBKB-DT',\n",
       " 'PLCB1-IT1',\n",
       " 'AREG',\n",
       " nan,\n",
       " '',\n",
       " 'MGST1']"
      ]
     },
     "execution_count": 12,
     "metadata": {},
     "output_type": "execute_result"
    }
   ],
   "source": [
    "ids = list( ids_df['transcript_id'].sample(10, random_state=1) )\n",
    "names = get_gene_names(ids, biomart_df)\n",
    "names"
   ]
  },
  {
   "cell_type": "code",
   "execution_count": 13,
   "id": "a37969a9-a49c-4bbc-b733-a0dba58aba53",
   "metadata": {},
   "outputs": [
    {
     "data": {
      "text/plain": [
       "[nan, nan, nan, nan, nan, 'PLCB1-IT1', nan, nan, '', nan]"
      ]
     },
     "execution_count": 13,
     "metadata": {},
     "output_type": "execute_result"
    }
   ],
   "source": [
    "ids = list( ids_df['gene_id'].sample(10, random_state=1) )\n",
    "names = get_gene_names(ids, biomart_df, strip_version=False)\n",
    "names"
   ]
  },
  {
   "cell_type": "code",
   "execution_count": 14,
   "id": "d163b039-679b-4821-b52c-5152b1c9d860",
   "metadata": {},
   "outputs": [
    {
     "data": {
      "text/plain": [
       "[nan, nan, nan, nan, nan, 'PLCB1-IT1', 'AREG', nan, '', nan]"
      ]
     },
     "execution_count": 14,
     "metadata": {},
     "output_type": "execute_result"
    }
   ],
   "source": [
    "ids = list( ids_df['transcript_id'].sample(10, random_state=1) )\n",
    "names = get_gene_names(ids, biomart_df, strip_version=False)\n",
    "names"
   ]
  },
  {
   "cell_type": "markdown",
   "id": "5f0dbde9-bbd3-40ec-813e-4571791672d0",
   "metadata": {},
   "source": [
    "---\n",
    "- Define a helper function `print_res_stats()` that calculates some basic stats, and among all shows how many IDs cannot be found in the provided BioMart data.\n",
    "- Test `get_gene_names()` function for **all** `gene_ids` and corresponding `transcript_ids` (~200k) using the default `strip_version` argument value (_True_):"
   ]
  },
  {
   "cell_type": "code",
   "execution_count": 15,
   "id": "53f84e70-965f-423b-8b11-a2b8b118e6e6",
   "metadata": {},
   "outputs": [],
   "source": [
    "def print_res_stats(ids, names):\n",
    "    in_na  = pd.isna(ids).sum()\n",
    "    out_na = pd.isna(names).sum()\n",
    "    print(f'Input vector length: {len(ids)}')\n",
    "    print(f'Output vector length: {len(names)}')\n",
    "    print(f'Input NA count: {in_na}')\n",
    "    print(f'Output NA count: {out_na}')\n",
    "    print(f'IDs not found: {out_na-in_na}')"
   ]
  },
  {
   "cell_type": "code",
   "execution_count": 16,
   "id": "5ec4c131-89e6-4ea0-a5d7-c458930860ff",
   "metadata": {},
   "outputs": [
    {
     "name": "stdout",
     "output_type": "stream",
     "text": [
      "Input vector length: 196520\n",
      "Output vector length: 196520\n",
      "Input NA count: 0\n",
      "Output NA count: 7714\n",
      "IDs not found: 7714\n"
     ]
    }
   ],
   "source": [
    "ids   = list( ids_df['gene_id'] )\n",
    "names = get_gene_names(ids, biomart_df)\n",
    "\n",
    "print_res_stats(ids, names)"
   ]
  },
  {
   "cell_type": "code",
   "execution_count": 17,
   "id": "e79472db-53ef-4f94-9287-58e0da44e615",
   "metadata": {},
   "outputs": [
    {
     "name": "stdout",
     "output_type": "stream",
     "text": [
      "Input vector length: 196520\n",
      "Output vector length: 196520\n",
      "Input NA count: 0\n",
      "Output NA count: 17043\n",
      "IDs not found: 17043\n"
     ]
    }
   ],
   "source": [
    "ids   = list( ids_df['transcript_id'] )\n",
    "names = get_gene_names(ids, biomart_df)\n",
    "\n",
    "print_res_stats(ids, names)"
   ]
  },
  {
   "cell_type": "code",
   "execution_count": null,
   "id": "842d6dc7-da18-4a77-be28-96da829777fa",
   "metadata": {},
   "outputs": [],
   "source": []
  }
 ],
 "metadata": {
  "kernelspec": {
   "display_name": "Python 3 (ipykernel)",
   "language": "python",
   "name": "python3"
  },
  "language_info": {
   "codemirror_mode": {
    "name": "ipython",
    "version": 3
   },
   "file_extension": ".py",
   "mimetype": "text/x-python",
   "name": "python",
   "nbconvert_exporter": "python",
   "pygments_lexer": "ipython3",
   "version": "3.11.4"
  }
 },
 "nbformat": 4,
 "nbformat_minor": 5
}
